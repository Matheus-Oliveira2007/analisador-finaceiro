{
 "cells": [
  {
   "cell_type": "code",
   "execution_count": null,
   "id": "5cca351d",
   "metadata": {},
   "outputs": [],
   "source": [
    "while True:\n",
    "    gastos = input(\"Digite o valor gasto desse mês (sem sinais + ou -): \")\n",
    "\n",
    "    # Verifica se tem sinal no começo\n",
    "    if gastos.startswith('+') or gastos.startswith('-'):\n",
    "        print(\"❌ Por favor, digite apenas o número, sem sinais de + ou -.\")\n",
    "        continue\n",
    "\n",
    "    try:\n",
    "        gastos2 = float(gastos)\n",
    "        break  # Sai do loop se estiver tudo certo\n",
    "    except ValueError:\n",
    "        print(\"❌ Valor inválido. Tente novamente.\")\n",
    "\n",
    "# Depois de sair do loop, pede o faturamento\n",
    "faturamento = float(input(\"Digite o valor do faturamento desse mês: \"))\n",
    "\n",
    "# Calcula a porcentagem de lucro\n",
    "lucro_porcentagem = (faturamento - gastos2) / faturamento * 100\n",
    "\n",
    "# Mostra o resultado\n",
    "if lucro_porcentagem > 0:\n",
    "    print(f\"✅ A porcentagem desse mês foi de {lucro_porcentagem:.0f}% acima do esperado.\")\n",
    "else:\n",
    "    print(f\"⚠️ A porcentagem desse mês foi de {(lucro_porcentagem):.0f}% abaixo do esperado.\")\n"
   ]
  }
 ],
 "metadata": {
  "language_info": {
   "name": "python"
  }
 },
 "nbformat": 4,
 "nbformat_minor": 5
}
